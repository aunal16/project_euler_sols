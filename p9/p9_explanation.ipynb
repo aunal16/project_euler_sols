{
 "cells": [
  {
   "cell_type": "markdown",
   "id": "moral-terrace",
   "metadata": {},
   "source": [
    "A Pythagorean set is given that a < b < c:\n",
    "\\begin{equation}\n",
    "c^2=a^2+b^2\n",
    "\\end{equation}"
   ]
  },
  {
   "cell_type": "markdown",
   "id": "unique-cooperative",
   "metadata": {},
   "source": [
    "A corollary of Pythagorean theorem is in any right triangle, the hypotenuse is greater than any of the other sides but smaller than their sum. Therefore,\n",
    "\\begin{equation}\n",
    "c<a+b\n",
    "\\end{equation}"
   ]
  },
  {
   "cell_type": "markdown",
   "id": "massive-model",
   "metadata": {},
   "source": [
    "In the problem, $a+b+c=100$. Imposing the condition above:\n",
    "\\begin{equation}\n",
    "c<a+b\\rightarrow 2c<a+b+c=100\\rightarrow c<500\n",
    "\\end{equation}"
   ]
  },
  {
   "cell_type": "markdown",
   "id": "mysterious-timber",
   "metadata": {},
   "source": [
    "Therefore, the largest possible $c$ is $499$. For this case $a+b=501$. As $c$ decreases, $a+b$ increases under the condition $a\\neq b$."
   ]
  },
  {
   "cell_type": "code",
   "execution_count": null,
   "id": "israeli-access",
   "metadata": {},
   "outputs": [],
   "source": []
  }
 ],
 "metadata": {
  "kernelspec": {
   "display_name": "Python 3",
   "language": "python",
   "name": "python3"
  },
  "language_info": {
   "codemirror_mode": {
    "name": "ipython",
    "version": 3
   },
   "file_extension": ".py",
   "mimetype": "text/x-python",
   "name": "python",
   "nbconvert_exporter": "python",
   "pygments_lexer": "ipython3",
   "version": "3.9.1"
  }
 },
 "nbformat": 4,
 "nbformat_minor": 5
}
