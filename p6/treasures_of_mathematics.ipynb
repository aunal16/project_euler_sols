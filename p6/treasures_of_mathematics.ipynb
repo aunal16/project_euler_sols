{
 "cells": [
  {
   "cell_type": "markdown",
   "id": "bibliographic-publisher",
   "metadata": {},
   "source": [
    "# # Hidden Treasures of Mathematics for P6"
   ]
  },
  {
   "cell_type": "markdown",
   "id": "organizational-boring",
   "metadata": {},
   "source": [
    "\\begin{equation}\n",
    "1^2+2^2+...+n^2=\\frac{n(n+1)(2n+1)}{6}\n",
    "\\end{equation}"
   ]
  },
  {
   "cell_type": "markdown",
   "id": "increasing-designation",
   "metadata": {},
   "source": [
    "The formula above can be used as shortcut for computing the sum of the squares of the first n integers. On the other hand, we can perform further exploitations by considering the other operation: the square of the sum of the first n integers."
   ]
  },
  {
   "cell_type": "markdown",
   "id": "young-boulder",
   "metadata": {},
   "source": [
    "\\begin{equation}\n",
    "(a+b)^2=a^2+b^2+2ab\n",
    "\\end{equation}"
   ]
  },
  {
   "cell_type": "markdown",
   "id": "second-christian",
   "metadata": {},
   "source": [
    "\\begin{equation}\n",
    "(a+b+c)^2=((a+b)+c)^2=a^2+b^2+c^2+2(ab+ac+bc)\n",
    "\\end{equation}"
   ]
  },
  {
   "cell_type": "markdown",
   "id": "wrong-sterling",
   "metadata": {},
   "source": [
    "\\begin{equation}\n",
    "(a+b+c+d)^2=((a+b)+(c+d))^2=a^2+b^2+c^2+d^2+2(ab+ac+ad+bc+bd+cd)\n",
    "\\end{equation}"
   ]
  },
  {
   "cell_type": "markdown",
   "id": "limited-forest",
   "metadata": {},
   "source": [
    "Without LOG, the following can be written for the first n integers:"
   ]
  },
  {
   "cell_type": "markdown",
   "id": "infinite-whole",
   "metadata": {},
   "source": [
    "\\begin{equation}\n",
    "(1+2+...+n)^2=1^2+2^2+...+n^2+2(1\\cdot2+1\\cdot3+...+1\\cdot n+2\\cdot3+...+2\\cdot n+...+(n-1)\\cdot n\n",
    "\\end{equation}"
   ]
  },
  {
   "cell_type": "markdown",
   "id": "through-andrews",
   "metadata": {},
   "source": [
    "Therefore, the difference $(1+2+...+n)^2-1^2+2^2+...+n^2$ becomes:"
   ]
  },
  {
   "cell_type": "markdown",
   "id": "rational-emperor",
   "metadata": {},
   "source": [
    "\\begin{equation}\n",
    "(1+2+...+n)^2 - 1^2+2^2+...+n^2 = (1^2+2^2+...+n^2) + 2(doubly\\ multiplications\\ of\\ all\\ terms) - (1^2+2^2+...+n^2) = 2(doubly\\ multiplications\\ of\\ all\\ terms)\n",
    "\\end{equation}"
   ]
  },
  {
   "cell_type": "markdown",
   "id": "chicken-valley",
   "metadata": {},
   "source": [
    "Note that the doubly multiplications does not include repetitions such as $ab$ and $ba$."
   ]
  },
  {
   "cell_type": "code",
   "execution_count": null,
   "id": "earned-mounting",
   "metadata": {},
   "outputs": [],
   "source": []
  }
 ],
 "metadata": {
  "kernelspec": {
   "display_name": "Python 3",
   "language": "python",
   "name": "python3"
  },
  "language_info": {
   "codemirror_mode": {
    "name": "ipython",
    "version": 3
   },
   "file_extension": ".py",
   "mimetype": "text/x-python",
   "name": "python",
   "nbconvert_exporter": "python",
   "pygments_lexer": "ipython3",
   "version": "3.9.1"
  }
 },
 "nbformat": 4,
 "nbformat_minor": 5
}
